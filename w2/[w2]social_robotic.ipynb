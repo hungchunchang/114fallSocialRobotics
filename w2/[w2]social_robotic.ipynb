{
 "cells": [
  {
   "cell_type": "markdown",
   "id": "1315e1e8",
   "metadata": {},
   "source": [
    "# 114-1 Psy5314 社會機器人專題 0912 工作坊\n",
    "\n",
    "助教 張閎鈞(r13227136@ntu.edu.tw)\n",
    "\n",
    "## 初始設定\n",
    "\n",
    "- select kernel"
   ]
  },
  {
   "cell_type": "code",
   "execution_count": 1,
   "id": "76c388cb",
   "metadata": {},
   "outputs": [
    {
     "name": "stdout",
     "output_type": "stream",
     "text": [
      "hello world\n"
     ]
    }
   ],
   "source": [
    "print(\"hello world\")"
   ]
  },
  {
   "cell_type": "markdown",
   "id": "0bdcc4d6",
   "metadata": {},
   "source": [
    "## 串接 openai api\n",
    "\n",
    "- 創建 .env file\n",
    "- 開啟 [openai api dashboard](https://platform.openai.com/chat)\n",
    "- 創建一組 api keys\n",
    "- 將 api keys 填入 .env file"
   ]
  },
  {
   "cell_type": "code",
   "execution_count": null,
   "id": "0465db5c",
   "metadata": {},
   "outputs": [],
   "source": [
    "!pip install openai"
   ]
  },
  {
   "cell_type": "code",
   "execution_count": null,
   "id": "1ef5e686",
   "metadata": {},
   "outputs": [],
   "source": [
    "import openai\n",
    "import dotenv\n",
    "import os\n",
    "\n",
    "dotenv.load_dotenv()\n",
    "\n",
    "client = openai.Client(os.getenv(\"OPENAI_API_KEY\"))\n",
    "\n",
    "response = client.chat.completions.create(\n",
    "    model=\"gpt-3.5-turbo\",\n",
    "    messages=[\n",
    "        {\"role\": \"user\", \"content\": \"Hello!\"},\n",
    "    ],\n",
    ")\n",
    "print(response.choices[0].message)"
   ]
  }
 ],
 "metadata": {
  "kernelspec": {
   "display_name": "analysis",
   "language": "python",
   "name": "python3"
  },
  "language_info": {
   "codemirror_mode": {
    "name": "ipython",
    "version": 3
   },
   "file_extension": ".py",
   "mimetype": "text/x-python",
   "name": "python",
   "nbconvert_exporter": "python",
   "pygments_lexer": "ipython3",
   "version": "3.11.11"
  }
 },
 "nbformat": 4,
 "nbformat_minor": 5
}
